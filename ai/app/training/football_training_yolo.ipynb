{
 "cells": [
  {
   "cell_type": "code",
   "execution_count": null,
   "id": "7e76150b",
   "metadata": {},
   "outputs": [],
   "source": [
    "!poetry install"
   ]
  },
  {
   "cell_type": "code",
   "execution_count": null,
   "id": "1de8add3",
   "metadata": {},
   "outputs": [],
   "source": [
    "import os\n",
    "from dotenv import load_dotenv\n",
    "\n",
    "# Load environment variables from .env file\n",
    "load_dotenv()\n",
    "\n",
    "# Get API keys from environment variables\n",
    "ROBOFLOW_API_KEY = os.getenv('ROBOFLOW_API_KEY')\n",
    "\n",
    "if not ROBOFLOW_API_KEY:\n",
    "    raise ValueError(\"ROBOFLOW_API_KEY not found in environment variables. Please check your .env file.\")\n",
    "\n",
    "print(\"Environment variables loaded successfully!\")\n",
    "print(f\"ROBOFLOW_API_KEY: {ROBOFLOW_API_KEY[:4]}...\")"
   ]
  },
  {
   "cell_type": "code",
   "execution_count": null,
   "id": "02e3ebea",
   "metadata": {},
   "outputs": [],
   "source": [
    "from roboflow import Roboflow\n",
    "\n",
    "# Initialize Roboflow with API key from environment variable\n",
    "rf = Roboflow(api_key=ROBOFLOW_API_KEY)\n",
    "project = rf.workspace(\"roboflow-jvuqo\").project(\"football-players-detection-3zvbc\")\n",
    "version = project.version(1)\n",
    "dataset = version.download(\"yolov12\")\n"
   ]
  },
  {
   "cell_type": "code",
   "execution_count": null,
   "id": "14686a8b",
   "metadata": {},
   "outputs": [],
   "source": [
    "!yolo task=detect mode=train model=yolo12x.pt data={dataset.location}/data.yaml epochs=50 imgsz=640 batch=16"
   ]
  }
 ],
 "metadata": {
  "kernelspec": {
   "display_name": "ai-aCjHAWbp-py3.13",
   "language": "python",
   "name": "python3"
  },
  "language_info": {
   "codemirror_mode": {
    "name": "ipython",
    "version": 3
   },
   "file_extension": ".py",
   "mimetype": "text/x-python",
   "name": "python",
   "nbconvert_exporter": "python",
   "pygments_lexer": "ipython3",
   "version": "3.13.3"
  }
 },
 "nbformat": 4,
 "nbformat_minor": 5
}
